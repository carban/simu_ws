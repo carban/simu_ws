{
  "nbformat": 4,
  "nbformat_minor": 0,
  "metadata": {
    "colab": {
      "name": "SimulationPractice1.ipynb",
      "provenance": [],
      "collapsed_sections": []
    },
    "kernelspec": {
      "name": "python3",
      "display_name": "Python 3"
    }
  },
  "cells": [
    {
      "cell_type": "markdown",
      "metadata": {
        "id": "IMboRi9Xhq9Z",
        "colab_type": "text"
      },
      "source": [
        "# Taller 1\n",
        "\n",
        "Integrantes:\n",
        "\n",
        "1.   Alejandro Palacios - 1630531\n",
        "2.   Carlos Esteban Murillo - 1562857\n",
        "3.   Oliver Henao - 1631951\n",
        "\n",
        "\n",
        "\n"
      ]
    },
    {
      "cell_type": "markdown",
      "metadata": {
        "id": "GhpdPxe6fHkO",
        "colab_type": "text"
      },
      "source": [
        "Aplique la prueba de Chi-Cuadrado con una confianza de 0.01 a los siguientes datos:\n",
        "\n",
        "0.424 0.879 0.927 0.993 0.340 0.633 0.363 0.700 0.828 0.787 0.117 0.147 0.093 0.502 0.247 0.993 0.465 0.595 0.509 0.344 0.565 0.294 0.933 0.950 0.944 0.936 0.448 0.821 0.461 0.599 0.585 0.693 0.731 0.935 0.578 0.232 0.462 0.001 0.309 0.319 0.577 0.531 0.642 0.534 0.707 0.120 0.740 0.648 0.238 0.002 0.010 0.688 0.286 0.512 0.655 0.452 0.025 0.699 0.555 0.072 0.981 0.113 0.500 0.811 0.843 0.924 0.144 0.057 0.008 0.250 0.053 0.531 0.596 0.299 0.726 0.569 0.677 0.726 0.785 0.844 0.164 0.714 0.044 0.077 0.602 0.262 0.053 0.023 0.482 0.418 0.505 0.052 0.850 0.680 0.550 0.287 0.378 0.177 0.820 0.528"
      ]
    },
    {
      "cell_type": "code",
      "metadata": {
        "id": "h5SVLBdJZlQG",
        "colab_type": "code",
        "colab": {}
      },
      "source": [
        "import math \n",
        "import pandas as pd\n",
        "import numpy as np\n",
        "from scipy import stats"
      ],
      "execution_count": null,
      "outputs": []
    },
    {
      "cell_type": "code",
      "metadata": {
        "id": "N0LM1KJuZXES",
        "colab_type": "code",
        "colab": {}
      },
      "source": [
        "# Funcion que calcula la frecuencia observada\n",
        "def getFO(n, c, data, increment):\n",
        "\n",
        "  FO = np.zeros(c)\n",
        "\n",
        "  for i in range(n):\n",
        "    cu = data[i]\n",
        "    x = 0 ; y = increment\n",
        "    for j in range(c):\n",
        "      if (cu >= x and cu < y):\n",
        "        FO[j] = FO[j] + 1\n",
        "        break\n",
        "      else:\n",
        "        x = y\n",
        "        y += increment\n",
        "        y = round(y, 3)\n",
        "\n",
        "  return FO"
      ],
      "execution_count": null,
      "outputs": []
    },
    {
      "cell_type": "code",
      "metadata": {
        "id": "SGWT7XlVZh8b",
        "colab_type": "code",
        "colab": {}
      },
      "source": [
        "# Funcion que retorna una lista con la etiqueta de cada clase\n",
        "def getClassesLabels(c, increment):\n",
        " \n",
        "  x = 0 ; y = increment\n",
        "  classes = []\n",
        "  for i in range(c):\n",
        "    classes.append(\"[\"+ str(x) + \",\" + str(y) + \")\")\n",
        "    x = y\n",
        "    y += increment\n",
        "    y = round(y, 3)\n",
        "    \n",
        "  return classes"
      ],
      "execution_count": null,
      "outputs": []
    },
    {
      "cell_type": "code",
      "metadata": {
        "id": "7hUIPd8QZjbb",
        "colab_type": "code",
        "colab": {}
      },
      "source": [
        "# Funcion que genera la tabla de chi^2 \n",
        "# Retorna un string para determinar si el generador es aceptado o no\n",
        "def getChiTest(data, conf_level):\n",
        "  \n",
        "  n = len(data)\n",
        "  c = math.ceil(math.sqrt(n))\n",
        "  FE = n / c\n",
        "  gl = c - 1\n",
        "  increment = round(FE / n, 3)\n",
        "\n",
        "  # Classes labels\n",
        "  classes = getClassesLabels(c, increment)\n",
        "  # Couting \n",
        "  FO = getFO(n, c, data, increment)\n",
        "\n",
        "  d = {\n",
        "      'Class': pd.Series(classes),\n",
        "      'FO': pd.Series(FO),\n",
        "      'FE': pd.Series([FE for _ in range(c)]),\n",
        "      'Error': pd.Series([0 for _ in range(c)])\n",
        "      }\n",
        "  df = pd.DataFrame(d)\n",
        "\n",
        "  #Error\n",
        "  df[\"Error\"] = ((df['FE'] - df['FO']) ** 2) / df['FE']\n",
        "\n",
        "  x2calc = sum(df[\"Error\"])\n",
        "  x2critic = stats.chi2.ppf(1 - conf_level, gl)\n",
        "\n",
        "  print(\"n =\", n, \"\\nc =\", c, \"\\nFE =\", FE, \"\\ngl =\", gl, \"\\nincrement =\", \n",
        "        increment, \"\\n\", df, \"\\nx2calc =\", x2calc, \"\\nx2critic =\", x2critic)\n",
        "\n",
        "  if (x2calc <= x2critic):\n",
        "    return \"** 👌 Accepted **\"\n",
        "  else:\n",
        "    return \"** 💩 Rejected **\""
      ],
      "execution_count": null,
      "outputs": []
    },
    {
      "cell_type": "code",
      "metadata": {
        "id": "LsrG8BUNZoqd",
        "colab_type": "code",
        "colab": {
          "base_uri": "https://localhost:8080/",
          "height": 347
        },
        "outputId": "e7afbe4d-0f52-4b51-81ff-83ea0e1250b6"
      },
      "source": [
        "data = [0.424, 0.879, 0.927, 0.993, 0.34, 0.633, 0.363, 0.7, 0.828, 0.787, 0.117, 0.147, 0.093, 0.502, 0.247, 0.993, 0.465, 0.595, 0.509, 0.344, 0.565, 0.294, 0.933, 0.95, 0.944, 0.936, 0.448, 0.821, 0.461, 0.599, 0.585, 0.693, 0.731, 0.935, 0.578, 0.232, 0.462, 0.001, 0.309, 0.319, 0.577, 0.531, 0.642, 0.534, 0.707, 0.12, 0.74, 0.648, 0.238, 0.002, 0.01, 0.688, 0.286, 0.512, 0.655, 0.452, 0.025, 0.699, 0.555, 0.072, 0.981, 0.113, 0.5, 0.811, 0.843, 0.924, 0.144, 0.057, 0.008, 0.25, 0.053, 0.531, 0.596, 0.299, 0.726, 0.569, 0.677, 0.726, 0.785, 0.844, 0.164, 0.714, 0.044, 0.077, 0.602, 0.262, 0.053, 0.023, 0.482, 0.418, 0.505, 0.052, 0.85, 0.68, 0.55, 0.287, 0.378, 0.177, 0.82, 0.528]\n",
        "conf_level = 0.01\n",
        "\n",
        "print(getChiTest(data, conf_level))"
      ],
      "execution_count": null,
      "outputs": [
        {
          "output_type": "stream",
          "text": [
            "n = 100 \n",
            "c = 10 \n",
            "FE = 10.0 \n",
            "gl = 9 \n",
            "increment = 0.1 \n",
            "        Class    FO    FE  Error\n",
            "0    [0,0.1)  14.0  10.0    1.6\n",
            "1  [0.1,0.2)   7.0  10.0    0.9\n",
            "2  [0.2,0.3)   9.0  10.0    0.1\n",
            "3  [0.3,0.4)   6.0  10.0    1.6\n",
            "4  [0.4,0.5)   8.0  10.0    0.4\n",
            "5  [0.5,0.6)  19.0  10.0    8.1\n",
            "6  [0.6,0.7)  10.0  10.0    0.0\n",
            "7  [0.7,0.8)   9.0  10.0    0.1\n",
            "8  [0.8,0.9)   8.0  10.0    0.4\n",
            "9  [0.9,1.0)  10.0  10.0    0.0 \n",
            "x2calc = 13.2 \n",
            "x2critic = 21.665994333461924\n",
            "** 👌 Accepted **\n"
          ],
          "name": "stdout"
        }
      ]
    },
    {
      "cell_type": "markdown",
      "metadata": {
        "id": "ta-m7U_kiPq7",
        "colab_type": "text"
      },
      "source": [
        "Se puede concluir entonces que este conjunto de números pseudoaleatorios posiblemente se encuentra distribuido de forma uniforme, ya que pasa la prueba de Chi^2 a pesar de tener un nivel de confianza bastante bajo. Sin embargo, para estar seguros se deberían realizar otros tests.\n",
        "\n"
      ]
    }
  ]
}